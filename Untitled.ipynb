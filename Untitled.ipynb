{
 "cells": [
  {
   "cell_type": "markdown",
   "id": "c9fbd03b",
   "metadata": {},
   "source": [
    "Q1.How do you concatenate two strings in Python?"
   ]
  },
  {
   "cell_type": "code",
   "execution_count": 14,
   "id": "dcac4052",
   "metadata": {},
   "outputs": [
    {
     "name": "stdout",
     "output_type": "stream",
     "text": [
      "HelloWorld\n"
     ]
    }
   ],
   "source": [
    "string1 = \"Hello\"\n",
    "string2 = \"World\"\n",
    "concatenated_string = string1 + string2\n",
    "print(concatenated_string)"
   ]
  },
  {
   "cell_type": "markdown",
   "id": "a0cb9cab",
   "metadata": {},
   "source": [
    "Q2.What is the difference between the + operator and the join() method for\n",
    "concatenating strings?"
   ]
  },
  {
   "cell_type": "markdown",
   "id": "21ad02a5",
   "metadata": {},
   "source": [
    "ANSWER:-  Difference between + operator and join() method:Difference between + operator and join() method:\n",
    "\n",
    "This is indeed true because the + operator is used to concatenate two string literals.\n",
    "\n",
    "join() method is a built-in method and it is used to join the list of strings and put a specified delimiter in BETWEEN two Strings."
   ]
  },
  {
   "cell_type": "markdown",
   "id": "b443d52f",
   "metadata": {},
   "source": [
    "Q3.How do you access individual characters in a string?"
   ]
  },
  {
   "cell_type": "code",
   "execution_count": 15,
   "id": "c811bd11",
   "metadata": {},
   "outputs": [
    {
     "name": "stdout",
     "output_type": "stream",
     "text": [
      "H\n"
     ]
    }
   ],
   "source": [
    "my_string = \"Hello\"\n",
    "\n",
    "first_char = my_string[0]  \n",
    "print(first_char)"
   ]
  },
  {
   "cell_type": "markdown",
   "id": "9fcdc4ef",
   "metadata": {},
   "source": [
    "Q4.What method is used to find the length of a string in Python?"
   ]
  },
  {
   "cell_type": "code",
   "execution_count": 16,
   "id": "ca8a322d",
   "metadata": {},
   "outputs": [
    {
     "name": "stdout",
     "output_type": "stream",
     "text": [
      "5\n"
     ]
    }
   ],
   "source": [
    "my_string = \"Hello\"\n",
    "\n",
    "length = len(my_string) \n",
    "print(length)"
   ]
  },
  {
   "cell_type": "markdown",
   "id": "6b364046",
   "metadata": {},
   "source": [
    "Q5.How can you convert a string to uppercase in Python?"
   ]
  },
  {
   "cell_type": "code",
   "execution_count": 17,
   "id": "10ec7626",
   "metadata": {},
   "outputs": [
    {
     "name": "stdout",
     "output_type": "stream",
     "text": [
      "HELLO\n"
     ]
    }
   ],
   "source": [
    "my_string = \"hello\"\n",
    "uppercase_string = my_string.upper() \n",
    "print(uppercase_string)"
   ]
  },
  {
   "cell_type": "markdown",
   "id": "09f935d0",
   "metadata": {},
   "source": [
    "Q6.How can you convert a string to uppercase in Python?"
   ]
  },
  {
   "cell_type": "code",
   "execution_count": 18,
   "id": "6b07979a",
   "metadata": {},
   "outputs": [
    {
     "name": "stdout",
     "output_type": "stream",
     "text": [
      "hello\n"
     ]
    }
   ],
   "source": [
    "my_string = \"HELLO\"\n",
    "\n",
    "lowercase_string = my_string. lower() \n",
    "print(lowercase_string)"
   ]
  },
  {
   "cell_type": "markdown",
   "id": "33fedb2d",
   "metadata": {},
   "source": [
    "Q7.What method is used to replace substrings within a string?"
   ]
  },
  {
   "cell_type": "code",
   "execution_count": 19,
   "id": "4bb4cc32",
   "metadata": {},
   "outputs": [
    {
     "name": "stdout",
     "output_type": "stream",
     "text": [
      "Hi, World!\n"
     ]
    }
   ],
   "source": [
    "my_string = \"Hello, World!\"\n",
    "new_string = my_string.replace(\"Hello\", \"Hi\") \n",
    "print(new_string)"
   ]
  },
  {
   "cell_type": "markdown",
   "id": "3b714421",
   "metadata": {},
   "source": []
  },
  {
   "cell_type": "markdown",
   "id": "b834590e",
   "metadata": {},
   "source": [
    "Q8.How can you split a string into a list of substrings based on a delimiter?"
   ]
  },
  {
   "cell_type": "code",
   "execution_count": 20,
   "id": "0f536f92",
   "metadata": {},
   "outputs": [
    {
     "name": "stdout",
     "output_type": "stream",
     "text": [
      "['Hello', 'World']\n"
     ]
    }
   ],
   "source": [
    "my_string = \"Hello,World\"\n",
    "substrings = my_string.split(\",\")  \n",
    "print(substrings)"
   ]
  },
  {
   "cell_type": "markdown",
   "id": "48d93be8",
   "metadata": {},
   "source": [
    "Q9.How do you check if a string starts with a particular substring?"
   ]
  },
  {
   "cell_type": "markdown",
   "id": "9aff79d4",
   "metadata": {},
   "source": []
  },
  {
   "cell_type": "code",
   "execution_count": 21,
   "id": "6e733cf1",
   "metadata": {},
   "outputs": [
    {
     "name": "stdout",
     "output_type": "stream",
     "text": [
      "True\n"
     ]
    }
   ],
   "source": [
    "my_string = \"Hello, World\"\n",
    "starts_with_hello = my_string.startswith(\"Hello\")\n",
    "print(starts_with_hello)"
   ]
  },
  {
   "cell_type": "markdown",
   "id": "c95a515f",
   "metadata": {},
   "source": [
    "Q10.How do you check if a string ends with a particular substring?"
   ]
  },
  {
   "cell_type": "code",
   "execution_count": 22,
   "id": "2979f952",
   "metadata": {},
   "outputs": [
    {
     "name": "stdout",
     "output_type": "stream",
     "text": [
      "True\n"
     ]
    }
   ],
   "source": [
    "my_string = \"Hello, World!\"\n",
    "ends_with_world = my_string.endswith(\"World!\")\n",
    "print(ends_with_world)"
   ]
  },
  {
   "cell_type": "markdown",
   "id": "7ca846d6",
   "metadata": {},
   "source": [
    "Q11.How can you remove leading and trailing whitespace from a string?"
   ]
  },
  {
   "cell_type": "code",
   "execution_count": 23,
   "id": "8537e132",
   "metadata": {},
   "outputs": [
    {
     "name": "stdout",
     "output_type": "stream",
     "text": [
      "Hello, World\n"
     ]
    }
   ],
   "source": [
    "my_string = \"  Hello, World  \"\n",
    "trimmed_string = my_string.strip()\n",
    "print(trimmed_string)"
   ]
  },
  {
   "cell_type": "markdown",
   "id": "41528497",
   "metadata": {},
   "source": [
    "Q12.What method is used to find the index of the first occurrence of a substring within a\n",
    "string?"
   ]
  },
  {
   "cell_type": "code",
   "execution_count": 24,
   "id": "df7b638b",
   "metadata": {},
   "outputs": [
    {
     "name": "stdout",
     "output_type": "stream",
     "text": [
      "7\n"
     ]
    }
   ],
   "source": [
    "my_string = \"Hello, World!\"\n",
    "index = my_string.find(\"World\")\n",
    "print(index)\n"
   ]
  },
  {
   "cell_type": "markdown",
   "id": "eaa329ca",
   "metadata": {},
   "source": [
    "Q13. How can you count the number of occurrences of a substring within a string?"
   ]
  },
  {
   "cell_type": "code",
   "execution_count": 25,
   "id": "7671df8a",
   "metadata": {},
   "outputs": [
    {
     "name": "stdout",
     "output_type": "stream",
     "text": [
      "3\n"
     ]
    }
   ],
   "source": [
    "my_string = \"Hello, World!\"\n",
    "count = my_string.count(\"l\")\n",
    "print(count)"
   ]
  },
  {
   "cell_type": "markdown",
   "id": "35c1c7d4",
   "metadata": {},
   "source": [
    "Q14. How do you check if a string contains only alphabetic characters?"
   ]
  },
  {
   "cell_type": "code",
   "execution_count": 26,
   "id": "ccd0de79",
   "metadata": {},
   "outputs": [
    {
     "name": "stdout",
     "output_type": "stream",
     "text": [
      "True\n"
     ]
    }
   ],
   "source": [
    "my_string = \"Hello\"\n",
    "is_alpha = my_string.isalpha()  \n",
    "print(is_alpha)"
   ]
  },
  {
   "cell_type": "markdown",
   "id": "53188a2a",
   "metadata": {},
   "source": [
    "Q15. How do you check if a string contains only numeric characters?"
   ]
  },
  {
   "cell_type": "code",
   "execution_count": 27,
   "id": "cd02f5cd",
   "metadata": {},
   "outputs": [
    {
     "name": "stdout",
     "output_type": "stream",
     "text": [
      "True\n"
     ]
    }
   ],
   "source": [
    "my_string = \"123\"\n",
    "is_digit = my_string.isdigit()\n",
    "print(is_digit)"
   ]
  },
  {
   "cell_type": "markdown",
   "id": "5e5fbd6f",
   "metadata": {},
   "source": [
    "Q16. How can you check if a string is a palindrome?"
   ]
  },
  {
   "cell_type": "code",
   "execution_count": 28,
   "id": "1d665380",
   "metadata": {},
   "outputs": [
    {
     "name": "stdout",
     "output_type": "stream",
     "text": [
      "True\n"
     ]
    }
   ],
   "source": [
    "my_string = \"radar\"\n",
    "is_palindrome = my_string == my_string\n",
    "print(is_palindrome)\n"
   ]
  },
  {
   "cell_type": "markdown",
   "id": "00869e49",
   "metadata": {},
   "source": [
    "Q17. How can you reverse a string in Python?"
   ]
  },
  {
   "cell_type": "code",
   "execution_count": 29,
   "id": "44066f32",
   "metadata": {},
   "outputs": [
    {
     "name": "stdout",
     "output_type": "stream",
     "text": [
      "olleH\n"
     ]
    }
   ],
   "source": [
    "my_string = \"Hello\"\n",
    "\n",
    "reversed_string = my_string[::-1] \n",
    "\n",
    "print(reversed_string)"
   ]
  },
  {
   "cell_type": "markdown",
   "id": "a8900960",
   "metadata": {},
   "source": [
    "Q18.How do you format a string with placeholders for variable values?"
   ]
  },
  {
   "cell_type": "code",
   "execution_count": 30,
   "id": "f8cd995b",
   "metadata": {},
   "outputs": [
    {
     "name": "stdout",
     "output_type": "stream",
     "text": [
      "My name is rajesh and I am 30 years old.\n"
     ]
    }
   ],
   "source": [
    "name = \"rajesh\"\n",
    "age = 30\n",
    "formatted_string = f\"My name is {name} and I am {age} years old.\"\n",
    "print(formatted_string)"
   ]
  },
  {
   "cell_type": "markdown",
   "id": "d00e47fd",
   "metadata": {},
   "source": [
    "Q19.How do you access a substring of a string using slicing?"
   ]
  },
  {
   "cell_type": "code",
   "execution_count": 31,
   "id": "20f2c2b5",
   "metadata": {},
   "outputs": [
    {
     "name": "stdout",
     "output_type": "stream",
     "text": [
      "kri\n"
     ]
    }
   ],
   "source": [
    "my_string = \"radhe, krishna\"\n",
    "substring = my_string[7:10]\n",
    "print(substring)"
   ]
  },
  {
   "cell_type": "markdown",
   "id": "9561aea1",
   "metadata": {},
   "source": [
    "Q20. How can you remove specific characters from a string in Python?"
   ]
  },
  {
   "cell_type": "code",
   "execution_count": 32,
   "id": "9245afc3",
   "metadata": {},
   "outputs": [
    {
     "name": "stdout",
     "output_type": "stream",
     "text": [
      "wrld  hell\n"
     ]
    }
   ],
   "source": [
    "my_string = \"world , hello\"\n",
    "cleaned_string = my_string.replace(\",\", \"\").replace(\"o\", \"\") \n",
    "print(cleaned_string)"
   ]
  }
 ],
 "metadata": {
  "kernelspec": {
   "display_name": "Python 3",
   "language": "python",
   "name": "python3"
  },
  "language_info": {
   "codemirror_mode": {
    "name": "ipython",
    "version": 3
   },
   "file_extension": ".py",
   "mimetype": "text/x-python",
   "name": "python",
   "nbconvert_exporter": "python",
   "pygments_lexer": "ipython3",
   "version": "3.12.3"
  }
 },
 "nbformat": 4,
 "nbformat_minor": 5
}
